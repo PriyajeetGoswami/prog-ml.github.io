{
 "cells": [
  {
   "cell_type": "markdown",
   "id": "074b0fdb",
   "metadata": {},
   "source": [
    "### Coin Toss\n",
    "\n",
    "\n",
    "A lot of this material is inspired by:\n",
    "\n",
    "1. Wiki article on Random Variables\n",
    "2. Khan academy videos \n",
    "3. MIT OCW course \n",
    "\n",
    "Assume you toss a coin once, the coin can land either as heads or tails. The outcome is unknown before the throw. \n",
    "\n",
    "```{admonition} Sample Space\n",
    "The sample space is the possible outcomes of the experiment. For the coin toss experiment, we can denote the sample space as: $\\Omega = \\{H, T\\}$\n",
    "```\n",
    "\n",
    "Now, let us say that if the coin lands as Heads, we win 1\\$ and we win 0\\$ if the coin lands as Tails. We can associate a function $W$ with the experiment such that W(Heads) = 1 and W(Tails) = 0\n",
    "\n",
    "\n",
    "```{admonition} Random Variable\n",
    "A random variable is a function mapping the sample space (for example: $\\Omega = \\{H, T\\}$) of an experiment to a measurement space $E = \\{0, 1\\}$. Random variables are represented using capital letters.\n",
    "```\n",
    "\n",
    "While we may have generally seen a random variable W associated with a coin toss taking the values 1 for Heads, 0 for Tails, we might have chosen any other values and still have a random variable. As an example\n",
    "\n",
    "$$\n",
    "Y(\\omega)= \\begin{cases}100, & \\text { if } \\omega=\\text { heads } \\\\ -20, & \\text { if } \\omega=\\text { tails }\\end{cases}\n",
    "$$\n",
    "\n",
    "\n",
    "```{admonition} Discrete Random Variable\n",
    "A discrete random variable can take discrete values. For example, W representing the money we win if we toss a coin randomly. Or, Y the top face of a dice when the dice is rolled. \n",
    "```"
   ]
  },
  {
   "cell_type": "code",
   "execution_count": null,
   "id": "b9707908",
   "metadata": {},
   "outputs": [],
   "source": []
  }
 ],
 "metadata": {
  "kernelspec": {
   "display_name": "Python 3 (ipykernel)",
   "language": "python",
   "name": "python3"
  },
  "language_info": {
   "codemirror_mode": {
    "name": "ipython",
    "version": 3
   },
   "file_extension": ".py",
   "mimetype": "text/x-python",
   "name": "python",
   "nbconvert_exporter": "python",
   "pygments_lexer": "ipython3",
   "version": "3.9.7"
  }
 },
 "nbformat": 4,
 "nbformat_minor": 5
}
