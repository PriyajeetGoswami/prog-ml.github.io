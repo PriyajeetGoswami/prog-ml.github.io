{
 "cells": [
  {
   "cell_type": "markdown",
   "id": "6b48f0ac",
   "metadata": {},
   "source": [
    "### Derivations for moments of univariate normal distribution"
   ]
  },
  {
   "cell_type": "markdown",
   "id": "2e396baf",
   "metadata": {},
   "source": [
    "$$\n",
    "\\begin{array}{c}\n",
    "X{\\sim} p(x) \\\\\n",
    "\\sim \\mathcal{N}(0,1) \\\\\n",
    "=\\frac{1}{\\sqrt{2 \\pi}}e^{(-1 / 2) x^{2}} \\\\\n",
    "E_{X}[x]=\\int_{-\\infty}^{\\infty} \\frac{1}{\\sqrt{2 \\pi}}e^{(-1 / 2) x^{2}} \\cdot x dx\n",
    "\\end{array}\n",
    "$$\n",
    "Solve indefinite integral,\n",
    "$$\n",
    "\\begin{array}{l}\n",
    "I=\\int \\frac{1}{\\sqrt{2 \\pi}} e^{-x^{2} / 2} \\cdot x d x \\\\\n",
    "y=\\frac{-x^{2}}{2} \\Rightarrow d y=-x d x \\\\\n",
    "\\therefore I=\\int \\frac{-1}{\\sqrt{2 \\pi}} e^{y} d y=\\frac{-1}{\\sqrt{2 \\pi}} \\int e^{y} d y=\\frac{-1}{\\sqrt{2 \\pi}} e^{y}\n",
    "\\end{array}\n",
    "$$\n",
    "Substitute back\n",
    "$$\n",
    "I=\\frac{-1}{\\sqrt{2 \\pi}} e^{-x^{2} / 2}\n",
    "$$\n",
    "Definite integral is $\\left.\\frac{-1}{\\sqrt{2 \\pi}} e^{-x^{2}}\\right|_{-\\infty} ^{\\infty}=\\frac{-1}{\\sqrt{2 \\pi}}\\left(e^{-\\infty}-e^{-\\infty}\\right)=0$\n"
   ]
  }
 ],
 "metadata": {
  "kernelspec": {
   "display_name": "Python 3 (ipykernel)",
   "language": "python",
   "name": "python3"
  },
  "language_info": {
   "codemirror_mode": {
    "name": "ipython",
    "version": 3
   },
   "file_extension": ".py",
   "mimetype": "text/x-python",
   "name": "python",
   "nbconvert_exporter": "python",
   "pygments_lexer": "ipython3",
   "version": "3.9.7"
  }
 },
 "nbformat": 4,
 "nbformat_minor": 5
}
