{
 "cells": [
  {
   "cell_type": "markdown",
   "id": "2e2644ef",
   "metadata": {},
   "source": [
    "### Coin Toss\n",
    "\n",
    "\n",
    "Assume you toss a coin once, the coin can land either as heads or tails. The outcome is unknown before the throw. \n",
    "\n",
    "```{admonition} Sample Space\n",
    "The sample space is the possible outcomes of the experiment can be denoted as: $\\Omega = \\{H, T\\}$\n",
    "```\n",
    "\n",
    "Now, let us say that if the coin lands as Heads, we win 1\\\\$ and we win 0\\\\$ if the coin lands as Tails. We can associate a function $X$ with the experiment such that X(Heads) = 1 and X(Tails) = 0"
   ]
  },
  {
   "cell_type": "code",
   "execution_count": null,
   "id": "2c896fbf",
   "metadata": {},
   "outputs": [],
   "source": []
  }
 ],
 "metadata": {
  "kernelspec": {
   "display_name": "Python 3 (ipykernel)",
   "language": "python",
   "name": "python3"
  },
  "language_info": {
   "codemirror_mode": {
    "name": "ipython",
    "version": 3
   },
   "file_extension": ".py",
   "mimetype": "text/x-python",
   "name": "python",
   "nbconvert_exporter": "python",
   "pygments_lexer": "ipython3",
   "version": "3.9.7"
  }
 },
 "nbformat": 4,
 "nbformat_minor": 5
}
